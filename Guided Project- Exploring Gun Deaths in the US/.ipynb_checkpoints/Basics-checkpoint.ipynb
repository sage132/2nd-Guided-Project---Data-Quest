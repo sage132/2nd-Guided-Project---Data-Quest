{
 "cells": [
  {
   "cell_type": "code",
   "execution_count": 2,
   "metadata": {
    "collapsed": false
   },
   "outputs": [
    {
     "name": "stdout",
     "output_type": "stream",
     "text": [
      "[['', 'year', 'month', 'intent', 'police', 'sex', 'age', 'race', 'hispanic', 'place', 'education'], ['1', '2012', '01', 'Suicide', '0', 'M', '34', 'Asian/Pacific Islander', '100', 'Home', '4'], ['2', '2012', '01', 'Suicide', '0', 'F', '21', 'White', '100', 'Street', '3'], ['3', '2012', '01', 'Suicide', '0', 'M', '60', 'White', '100', 'Other specified', '4'], ['4', '2012', '02', 'Suicide', '0', 'M', '64', 'White', '100', 'Home', '4']]\n"
     ]
    }
   ],
   "source": [
    "import csv\n",
    "f = open(\"guns.csv\",\"r\")\n",
    "data = list(csv.reader(f))\n",
    "print(data[0:5])"
   ]
  },
  {
   "cell_type": "code",
   "execution_count": 3,
   "metadata": {
    "collapsed": false
   },
   "outputs": [
    {
     "name": "stdout",
     "output_type": "stream",
     "text": [
      "['', 'year', 'month', 'intent', 'police', 'sex', 'age', 'race', 'hispanic', 'place', 'education']\n",
      "[['1', '2012', '01', 'Suicide', '0', 'M', '34', 'Asian/Pacific Islander', '100', 'Home', '4'], ['2', '2012', '01', 'Suicide', '0', 'F', '21', 'White', '100', 'Street', '3'], ['3', '2012', '01', 'Suicide', '0', 'M', '60', 'White', '100', 'Other specified', '4'], ['4', '2012', '02', 'Suicide', '0', 'M', '64', 'White', '100', 'Home', '4'], ['5', '2012', '02', 'Suicide', '0', 'M', '31', 'White', '100', 'Other specified', '2']]\n"
     ]
    }
   ],
   "source": [
    "headers = data[0]\n",
    "print(headers)\n",
    "data = data[1:len(data)]\n",
    "print(data[0:5])"
   ]
  },
  {
   "cell_type": "code",
   "execution_count": 4,
   "metadata": {
    "collapsed": false
   },
   "outputs": [
    {
     "name": "stdout",
     "output_type": "stream",
     "text": [
      "{'2013': 33636, '2014': 33599, '2012': 33563}\n"
     ]
    }
   ],
   "source": [
    "year_counts = {}\n",
    "for i in data:\n",
    "    if i[1] in year_counts:\n",
    "        year_counts[i[1]] = year_counts[i[1]] +1\n",
    "    else:\n",
    "        year_counts[i[1]] = 1\n",
    "print(year_counts)        "
   ]
  },
  {
   "cell_type": "code",
   "execution_count": 6,
   "metadata": {
    "collapsed": false
   },
   "outputs": [
    {
     "name": "stdout",
     "output_type": "stream",
     "text": [
      "[datetime.datetime(2012, 1, 1, 0, 0), datetime.datetime(2012, 1, 1, 0, 0), datetime.datetime(2012, 1, 1, 0, 0), datetime.datetime(2012, 2, 1, 0, 0), datetime.datetime(2012, 2, 1, 0, 0)]\n"
     ]
    }
   ],
   "source": [
    "import datetime\n",
    "dates = []\n",
    "for i in data:\n",
    "    date_row = datetime.datetime(year=int(i[1]), month=int(i[2]), day=1)\n",
    "    dates.append(date_row)\n",
    "print(dates[0:5])"
   ]
  },
  {
   "cell_type": "code",
   "execution_count": 8,
   "metadata": {
    "collapsed": false
   },
   "outputs": [
    {
     "name": "stdout",
     "output_type": "stream",
     "text": [
      "{datetime.datetime(2014, 2, 1, 0, 0): 2361, datetime.datetime(2014, 3, 1, 0, 0): 2684, datetime.datetime(2012, 8, 1, 0, 0): 2954, datetime.datetime(2013, 4, 1, 0, 0): 2798, datetime.datetime(2012, 3, 1, 0, 0): 2743, datetime.datetime(2012, 7, 1, 0, 0): 3026, datetime.datetime(2012, 5, 1, 0, 0): 2999, datetime.datetime(2013, 9, 1, 0, 0): 2742, datetime.datetime(2012, 2, 1, 0, 0): 2357, datetime.datetime(2014, 11, 1, 0, 0): 2756, datetime.datetime(2013, 7, 1, 0, 0): 3079, datetime.datetime(2014, 10, 1, 0, 0): 2865, datetime.datetime(2012, 6, 1, 0, 0): 2826, datetime.datetime(2012, 12, 1, 0, 0): 2791, datetime.datetime(2014, 4, 1, 0, 0): 2862, datetime.datetime(2014, 5, 1, 0, 0): 2864, datetime.datetime(2013, 3, 1, 0, 0): 2862, datetime.datetime(2014, 9, 1, 0, 0): 2914, datetime.datetime(2013, 12, 1, 0, 0): 2765, datetime.datetime(2013, 1, 1, 0, 0): 2864, datetime.datetime(2012, 10, 1, 0, 0): 2733, datetime.datetime(2012, 11, 1, 0, 0): 2729, datetime.datetime(2012, 1, 1, 0, 0): 2758, datetime.datetime(2014, 8, 1, 0, 0): 2970, datetime.datetime(2012, 9, 1, 0, 0): 2852, datetime.datetime(2014, 12, 1, 0, 0): 2857, datetime.datetime(2014, 7, 1, 0, 0): 2884, datetime.datetime(2013, 2, 1, 0, 0): 2375, datetime.datetime(2013, 8, 1, 0, 0): 2859, datetime.datetime(2014, 6, 1, 0, 0): 2931, datetime.datetime(2013, 10, 1, 0, 0): 2808, datetime.datetime(2012, 4, 1, 0, 0): 2795, datetime.datetime(2013, 5, 1, 0, 0): 2806, datetime.datetime(2013, 11, 1, 0, 0): 2758, datetime.datetime(2014, 1, 1, 0, 0): 2651, datetime.datetime(2013, 6, 1, 0, 0): 2920}\n"
     ]
    }
   ],
   "source": [
    "date_counts = {}\n",
    "\n",
    "for date in dates:\n",
    "    if date not in date_counts:\n",
    "        date_counts[date] = 0\n",
    "    date_counts[date] += 1\n",
    "    \n",
    "print (date_counts)"
   ]
  },
  {
   "cell_type": "code",
   "execution_count": 9,
   "metadata": {
    "collapsed": false
   },
   "outputs": [
    {
     "name": "stdout",
     "output_type": "stream",
     "text": [
      "{'Hispanic': 9022, 'Asian/Pacific Islander': 1326, 'Native American/Native Alaskan': 917, 'Black': 23296, 'White': 66237}\n",
      "{'M': 86349, 'F': 14449}\n"
     ]
    }
   ],
   "source": [
    "race_counts = {}\n",
    "sex_counts = {}\n",
    "for i in data:\n",
    "    if i[5] in sex_counts:\n",
    "        sex_counts[i[5]] = sex_counts[i[5]] +1\n",
    "    else:\n",
    "        sex_counts[i[5]] = 1\n",
    "    if i[7] in race_counts:\n",
    "        race_counts[i[7]] = race_counts[i[7]] +1\n",
    "    else:\n",
    "        race_counts[i[7]] = 1\n",
    "print(race_counts)\n",
    "print(sex_counts)  "
   ]
  },
  {
   "cell_type": "code",
   "execution_count": 13,
   "metadata": {
    "collapsed": false,
    "scrolled": true
   },
   "outputs": [
    {
     "name": "stdout",
     "output_type": "stream",
     "text": [
      "[['Id', 'Year', 'Id', 'Sex', 'Id', 'Hispanic Origin', 'Id', 'Id2', 'Geography', 'Total', 'Race Alone - White', 'Race Alone - Hispanic', 'Race Alone - Black or African American', 'Race Alone - American Indian and Alaska Native', 'Race Alone - Asian', 'Race Alone - Native Hawaiian and Other Pacific Islander', 'Two or More Races'], ['cen42010', 'April 1, 2010 Census', 'totsex', 'Both Sexes', 'tothisp', 'Total', '0100000US', '', 'United States', '308745538', '197318956', '44618105', '40250635', '3739506', '15159516', '674625', '6984195']]\n"
     ]
    }
   ],
   "source": [
    "t = open(\"census.csv\",\"r\")\n",
    "census = list(csv.reader(t))\n",
    "print(census[0:5])"
   ]
  },
  {
   "cell_type": "code",
   "execution_count": 15,
   "metadata": {
    "collapsed": false
   },
   "outputs": [
    {
     "name": "stdout",
     "output_type": "stream",
     "text": [
      "{'Hispanic': 20.220491210910907, 'Asian/Pacific Islander': 8.374309664161762, 'Native American/Native Alaskan': 24.521955573811088, 'Black': 57.8773477735196, 'White': 33.56849303419181}\n"
     ]
    }
   ],
   "source": [
    "mappings = {\"Asian/Pacific Islander\":15834141,\"Black\":40250635, \"Native American/Native Alaskan\":3739506, \"Hispanic\":44618105, \"White\":197318956}\n",
    "race_per_hundredk = {}\n",
    "for key,value in race_counts.items():\n",
    "    race_per_hundredk[key]=(value/mappings[key])*100000\n",
    "    \n",
    "print(race_per_hundredk )\n",
    "   \n",
    "    \n"
   ]
  },
  {
   "cell_type": "code",
   "execution_count": 22,
   "metadata": {
    "collapsed": false
   },
   "outputs": [
    {
     "name": "stdout",
     "output_type": "stream",
     "text": [
      "{'Hispanic': 5635, 'Asian/Pacific Islander': 560, 'Native American/Native Alaskan': 327, 'Black': 19511, 'White': 9148}\n"
     ]
    }
   ],
   "source": [
    "races = []\n",
    "intent = []\n",
    "for i in data:\n",
    "    races.append(i[7])\n",
    "    intent.append(i[3])\n",
    "    \n",
    "homicide_race_per_hundredk = {}\n",
    "for i,race in enumerate(races):\n",
    "    if race in homicide_race_per_hundredk:\n",
    "        if intent[i] == \"Homicide\":\n",
    "            homicide_race_per_hundredk[race] = homicide_race_per_hundredk[race] + 1\n",
    "    else:\n",
    "        homicide_race_per_hundredk[race] = 1\n",
    "print(homicide_race_per_hundredk)\n"
   ]
  },
  {
   "cell_type": "code",
   "execution_count": 23,
   "metadata": {
    "collapsed": false
   },
   "outputs": [
    {
     "name": "stdout",
     "output_type": "stream",
     "text": [
      "{'03': 2781, '06': 3130, '12': 3192, '11': 2920, '02': 2179, '01': 2830, '08': 3125, '05': 2977, '09': 2967, '07': 3269, '04': 2846, '10': 2969}\n",
      "{'M': 29804, 'F': 5374}\n",
      "{'Trade/service area': 522, 'Other specified': 1943, 'NA': 68, 'School/instiution': 99, 'Home': 8647, 'Sports': 38, 'Farm': 70, 'Street': 552, 'Industrial/construction': 38, 'Residential institution': 31, 'Other unspecified': 946}\n"
     ]
    }
   ],
   "source": [
    "import csv\n",
    "def find_link(column_1,column_1_value,column_2,column_2_value,file):\n",
    "    f = open(file, \"r\")\n",
    "    data = list(csv.reader(f))\n",
    "    data = data[1:len(data)]\n",
    "    link_1 = [i[column_1] for i in data]\n",
    "    link_2 = [i[column_2] for i in data]\n",
    "    link_data_dict = {}\n",
    "    for i, value in enumerate(link_1):\n",
    "        if column_1_value == '':\n",
    "            exra_value = value\n",
    "        else:\n",
    "            exra_value = column_1_value\n",
    "        if exra_value in link_data_dict:\n",
    "            if link_2[i] == column_2_value:\n",
    "                link_data_dict[exra_value] = link_data_dict[exra_value] + 1\n",
    "        else:\n",
    "            link_data_dict[exra_value] = 1\n",
    "    return link_data_dict\n",
    "\n",
    "#Figure out the link, if any, between month and homicide rate.\n",
    "month_nd_homicide_rate = find_link(2,'',3,'Homicide',\"guns.csv\")\n",
    "print(month_nd_homicide_rate)\n",
    "\n",
    "#Explore the homicide rate by gender.\n",
    "homicide_rate_by_gender = find_link(5,'',3,'Homicide',\"guns.csv\")\n",
    "print(homicide_rate_by_gender)\n",
    "\n",
    "#Find out if gun death rates correlate to location and education.\n",
    "location_nd_education = find_link(9,'',10,\"4\",\"guns.csv\")\n",
    "print(location_nd_education)"
   ]
  },
  {
   "cell_type": "code",
   "execution_count": null,
   "metadata": {
    "collapsed": true
   },
   "outputs": [],
   "source": []
  }
 ],
 "metadata": {
  "kernelspec": {
   "display_name": "Python 3",
   "language": "python",
   "name": "python3"
  },
  "language_info": {
   "codemirror_mode": {
    "name": "ipython",
    "version": 3
   },
   "file_extension": ".py",
   "mimetype": "text/x-python",
   "name": "python",
   "nbconvert_exporter": "python",
   "pygments_lexer": "ipython3",
   "version": "3.4.3"
  }
 },
 "nbformat": 4,
 "nbformat_minor": 0
}
